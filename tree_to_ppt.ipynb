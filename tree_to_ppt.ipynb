{
  "nbformat": 4,
  "nbformat_minor": 0,
  "metadata": {
    "colab": {
      "name": "tree_to_ppt.ipynb",
      "provenance": [],
      "collapsed_sections": [],
      "authorship_tag": "ABX9TyOUFkbj/SY+ort4kkwGvj2y",
      "include_colab_link": true
    },
    "kernelspec": {
      "name": "python3",
      "display_name": "Python 3"
    }
  },
  "cells": [
    {
      "cell_type": "markdown",
      "metadata": {
        "id": "view-in-github",
        "colab_type": "text"
      },
      "source": [
        "<a href=\"https://colab.research.google.com/github/mitsu666/tree_to_ppt/blob/main/tree_to_ppt.ipynb\" target=\"_parent\"><img src=\"https://colab.research.google.com/assets/colab-badge.svg\" alt=\"Open In Colab\"/></a>"
      ]
    },
    {
      "cell_type": "code",
      "metadata": {
        "id": "CJYRnfZ7XuoG",
        "colab": {
          "base_uri": "https://localhost:8080/"
        },
        "outputId": "2d75e4e9-1343-4415-d182-6818c14f607d"
      },
      "source": [
        "!pip install python-pptx"
      ],
      "execution_count": null,
      "outputs": [
        {
          "output_type": "stream",
          "text": [
            "Collecting python-pptx\n",
            "\u001b[?25l  Downloading https://files.pythonhosted.org/packages/bf/86/eb979f7b0333ec769041aae36df8b9f1bd8bea5bbad44620663890dce561/python-pptx-0.6.18.tar.gz (8.9MB)\n",
            "\u001b[K     |████████████████████████████████| 8.9MB 5.6MB/s \n",
            "\u001b[?25hRequirement already satisfied: lxml>=3.1.0 in /usr/local/lib/python3.6/dist-packages (from python-pptx) (4.2.6)\n",
            "Requirement already satisfied: Pillow>=3.3.2 in /usr/local/lib/python3.6/dist-packages (from python-pptx) (7.0.0)\n",
            "Collecting XlsxWriter>=0.5.7\n",
            "\u001b[?25l  Downloading https://files.pythonhosted.org/packages/6b/41/bf1aae04932d1eaffee1fc5f8b38ca47bbbf07d765129539bc4bcce1ce0c/XlsxWriter-1.3.7-py2.py3-none-any.whl (144kB)\n",
            "\u001b[K     |████████████████████████████████| 153kB 47.4MB/s \n",
            "\u001b[?25hBuilding wheels for collected packages: python-pptx\n",
            "  Building wheel for python-pptx (setup.py) ... \u001b[?25l\u001b[?25hdone\n",
            "  Created wheel for python-pptx: filename=python_pptx-0.6.18-cp36-none-any.whl size=275707 sha256=cf48ccd634f7fe732dcfef106d8f6ef9b4fdcd4d86ee1eec5d94710599d55e34\n",
            "  Stored in directory: /root/.cache/pip/wheels/1f/1f/2c/29acca422b420a0b5210bd2cd7e9669804520d602d2462f20b\n",
            "Successfully built python-pptx\n",
            "Installing collected packages: XlsxWriter, python-pptx\n",
            "Successfully installed XlsxWriter-1.3.7 python-pptx-0.6.18\n"
          ],
          "name": "stdout"
        }
      ]
    },
    {
      "cell_type": "code",
      "metadata": {
        "id": "_VlMjeyDX0lz"
      },
      "source": [
        "import pandas as pd\r\n",
        "import numpy as np\r\n",
        "import matplotlib.pyplot as plt\r\n",
        "from pptx import Presentation\r\n",
        "from pptx.util import Inches, Pt\r\n",
        "from sklearn.datasets import load_iris\r\n",
        "from sklearn.model_selection import cross_val_score\r\n",
        "from sklearn.tree import DecisionTreeClassifier, plot_tree"
      ],
      "execution_count": null,
      "outputs": []
    },
    {
      "cell_type": "code",
      "metadata": {
        "id": "Yaf9jZQZX5vO",
        "colab": {
          "base_uri": "https://localhost:8080/"
        },
        "outputId": "3b481b4b-9be4-437f-9faf-457d156603c6"
      },
      "source": [
        "#irisデータで例を出す\r\n",
        "clf = DecisionTreeClassifier(random_state=0)\r\n",
        "iris = load_iris()\r\n",
        "clf.fit(iris.data, iris.target)"
      ],
      "execution_count": null,
      "outputs": [
        {
          "output_type": "execute_result",
          "data": {
            "text/plain": [
              "DecisionTreeClassifier(ccp_alpha=0.0, class_weight=None, criterion='gini',\n",
              "                       max_depth=None, max_features=None, max_leaf_nodes=None,\n",
              "                       min_impurity_decrease=0.0, min_impurity_split=None,\n",
              "                       min_samples_leaf=1, min_samples_split=2,\n",
              "                       min_weight_fraction_leaf=0.0, presort='deprecated',\n",
              "                       random_state=0, splitter='best')"
            ]
          },
          "metadata": {
            "tags": []
          },
          "execution_count": 3
        }
      ]
    },
    {
      "cell_type": "markdown",
      "metadata": {
        "id": "T5-NBqdiX_JO"
      },
      "source": [
        "## 以降はclfというモデルオブジェクトがあることが前提"
      ]
    },
    {
      "cell_type": "code",
      "metadata": {
        "id": "vcnGl_HGX-rG",
        "colab": {
          "base_uri": "https://localhost:8080/",
          "height": 248
        },
        "outputId": "b64a7174-8bda-46ef-b8fe-985771c4c90c"
      },
      "source": [
        "#ノードのテキスト抽出\r\n",
        "text1 = plot_tree(clf, feature_names=iris.feature_names, filled=True,proportion=False,node_ids=True)\r\n",
        "text2 = plot_tree(clf, feature_names=iris.feature_names, filled=True,proportion=True,node_ids=True)\r\n",
        "\r\n",
        "tex_set = [text1[i].get_text().split(\"\\n\")+[text2[i].get_text().split(\"\\n\")[-1]] for i in range(len(text1))]\r\n",
        "tex_set  = [[i for i in tex if (i.find('entropy')==-1) and (i.find('node')==-1)] for tex in tex_set]"
      ],
      "execution_count": null,
      "outputs": [
        {
          "output_type": "display_data",
          "data": {
            "image/png": "[encoded data removed]",
            "text/plain": [
              "<Figure size 432x288 with 1 Axes>"
            ]
          },
          "metadata": {
            "tags": [],
            "needs_background": "light"
          }
        }
      ]
    },
    {
      "cell_type": "code",
      "metadata": {
        "id": "tNz8EfyXYJ9H"
      },
      "source": [
        "#階層数を抽出する関数定義\r\n",
        "def parents(i):\r\n",
        "    for l in [[i,clf.tree_.children_right[i]] for i in range(len(text1))]+ [[i,clf.tree_.children_left[i]] for i in range(len(text1))]:\r\n",
        "        if l[1] == i:\r\n",
        "            #print (l)\r\n",
        "            value = l[0]\r\n",
        "            break\r\n",
        "        else:\r\n",
        "            value = 99\r\n",
        "    return (value)\r\n",
        "def num_layer(node):\r\n",
        "    for i in range(10):#最大の深さを入れるここでは10とする\r\n",
        "        if parents(node) == 99:\r\n",
        "            break\r\n",
        "        node = parents(node)\r\n",
        "    return i\r\n",
        "layers = [num_layer(i) for i in range(len(text1))]"
      ],
      "execution_count": null,
      "outputs": []
    },
    {
      "cell_type": "code",
      "metadata": {
        "id": "HDRSGnvNYT8p"
      },
      "source": [
        "from pptx.dml.color import RGBColor\r\n",
        "prs = Presentation()\r\n",
        "blank_slide_layout = prs.slide_layouts[6]\r\n",
        "slide = prs.slides.add_slide(blank_slide_layout)\r\n",
        "\r\n",
        "# left = Inches(1)\r\n",
        "# top = Inches(1)\r\n",
        "# width = Inches(2)\r\n",
        "# height = Inches(1)\r\n",
        "# txBox = slide.shapes.add_shape(MSO_SHAPE.RECTANGLE,left, top, width, height)\r\n",
        "# tf = txBox.text_frame\r\n",
        "\r\n",
        "#tf.text = \"This is text inside a textbox\"\r\n",
        "#txBox\r\n",
        "# p = tf.add_paragraph()\r\n",
        "# p.text = \"This is a second paragraph that's bold\"\r\n",
        "# p.font.bold = True\r\n",
        "\r\n",
        "# p = tf.add_paragraph()\r\n",
        "# p.text = \"This is a third paragraph that's big\"\r\n",
        "# p.font.size = Pt(16)\r\n",
        "# p.font.color.theme_color = MSO_THEME_COLOR.ACCENT_1 \r\n",
        "ct = dict([(i,0) for i in range(10)])\r\n",
        "for tex,l in zip(tex_set,layers): \r\n",
        "    for i in range(10):\r\n",
        "        if l==i:\r\n",
        "            ct[i] = 1 + ct[i] \r\n",
        "            \r\n",
        "    shp = slide.shapes.add_textbox(Pt(10+180*l), Pt(450-80*(ct[l]-1)), Pt(150), Pt(50))\r\n",
        "    tf = shp.text_frame\r\n",
        "    #shp.text = \"\\n\".join(tex)\r\n",
        "    #p = tf.add_paragraph()\r\n",
        "    tf.text = \"\\n\".join(tex)\r\n",
        "    #tf.fit_text()\r\n",
        "    tf._set_font(\"Calibri\",10,False,False)\r\n",
        "    shp.line.color.rgb = RGBColor(0, 0, 0)\r\n",
        "\r\n",
        "\r\n",
        "prs.save('test.pptx')"
      ],
      "execution_count": null,
      "outputs": []
    },
    {
      "cell_type": "code",
      "metadata": {
        "id": "FGXerOlP-4yc"
      },
      "source": [
        ""
      ],
      "execution_count": null,
      "outputs": []
    }
  ]
}