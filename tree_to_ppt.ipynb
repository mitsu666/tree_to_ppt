{
  "nbformat": 4,
  "nbformat_minor": 0,
  "metadata": {
    "colab": {
      "name": "tree_to_ppt.ipynb",
      "provenance": []
    },
    "kernelspec": {
      "name": "python3",
      "display_name": "Python 3"
    }
  },
  "cells": [
    {
      "cell_type": "code",
      "metadata": {
        "id": "CJYRnfZ7XuoG"
      },
      "source": [
        "!pip install python-pptx"
      ],
      "execution_count": null,
      "outputs": []
    },
    {
      "cell_type": "code",
      "metadata": {
        "id": "_VlMjeyDX0lz"
      },
      "source": [
        "import pandas as pd\r\n",
        "import numpy as np\r\n",
        "import matplotlib.pyplot as plt\r\n",
        "from pptx import Presentation\r\n",
        "from pptx.util import Inches, Pt\r\n",
        "from sklearn.datasets import load_iris\r\n",
        "from sklearn.model_selection import cross_val_score\r\n",
        "from sklearn.tree import DecisionTreeClassifier, plot_tree"
      ],
      "execution_count": null,
      "outputs": []
    },
    {
      "cell_type": "code",
      "metadata": {
        "id": "Yaf9jZQZX5vO"
      },
      "source": [
        "#irisデータで例を出す\r\n",
        "clf = DecisionTreeClassifier(random_state=0)\r\n",
        "iris = load_iris()\r\n",
        "clf.fit(iris.data, iris.target)"
      ],
      "execution_count": null,
      "outputs": []
    },
    {
      "cell_type": "markdown",
      "metadata": {
        "id": "T5-NBqdiX_JO"
      },
      "source": [
        "## 以降はclfというモデルオブジェクトがあることが前提"
      ]
    },
    {
      "cell_type": "code",
      "metadata": {
        "id": "vcnGl_HGX-rG"
      },
      "source": [
        "#ノードのテキスト抽出\r\n",
        "text1 = plot_tree(clf, feature_names=iris.feature_names, filled=True,proportion=False,node_ids=True)\r\n",
        "text2 = plot_tree(clf, feature_names=iris.feature_names, filled=True,proportion=True,node_ids=True)\r\n",
        "\r\n",
        "tex_set = [text1[i].get_text().split(\"\\n\")+[text2[i].get_text().split(\"\\n\")[-1]] for i in range(len(text1))]\r\n",
        "tex_set  = [[i for i in tex if (i.find('entropy')==-1) and (i.find('node')==-1)] for tex in tex_set]"
      ],
      "execution_count": null,
      "outputs": []
    },
    {
      "cell_type": "code",
      "metadata": {
        "id": "tNz8EfyXYJ9H"
      },
      "source": [
        "#階層数を抽出する関数定義\r\n",
        "def parents(i):\r\n",
        "    for l in [[i,clf.tree_.children_right[i]] for i in range(len(text1))]+ [[i,clf.tree_.children_left[i]] for i in range(len(text1))]:\r\n",
        "        if l[1] == i:\r\n",
        "            #print (l)\r\n",
        "            value = l[0]\r\n",
        "            break\r\n",
        "        else:\r\n",
        "            value = 99\r\n",
        "    return (value)\r\n",
        "def num_layer(node):\r\n",
        "    for i in range(10):#最大の深さを入れるここでは10とする\r\n",
        "        if parents(node) == 99:\r\n",
        "            break\r\n",
        "        node = parents(node)\r\n",
        "    return i\r\n",
        "layers = [num_layer(i) for i in range(len(text1))]"
      ],
      "execution_count": null,
      "outputs": []
    },
    {
      "cell_type": "code",
      "metadata": {
        "id": "HDRSGnvNYT8p"
      },
      "source": [
        "#指定したフォルダにpptxができる\r\n",
        "from pptx.dml.color import RGBColor\r\n",
        "prs = Presentation()\r\n",
        "blank_slide_layout = prs.slide_layouts[6]\r\n",
        "slide = prs.slides.add_slide(blank_slide_layout)\r\n",
        "\r\n",
        "# left = Inches(1)\r\n",
        "# top = Inches(1)\r\n",
        "# width = Inches(2)\r\n",
        "# height = Inches(1)\r\n",
        "# txBox = slide.shapes.add_shape(MSO_SHAPE.RECTANGLE,left, top, width, height)\r\n",
        "# tf = txBox.text_frame\r\n",
        "\r\n",
        "#tf.text = \"This is text inside a textbox\"\r\n",
        "#txBox\r\n",
        "# p = tf.add_paragraph()\r\n",
        "# p.text = \"This is a second paragraph that's bold\"\r\n",
        "# p.font.bold = True\r\n",
        "\r\n",
        "# p = tf.add_paragraph()\r\n",
        "# p.text = \"This is a third paragraph that's big\"\r\n",
        "# p.font.size = Pt(16)\r\n",
        "# p.font.color.theme_color = MSO_THEME_COLOR.ACCENT_1 \r\n",
        "ct = dict([(i,0) for i in range(10)])\r\n",
        "for tex,l in zip(tex_set,layers): \r\n",
        "    for i in range(10):\r\n",
        "        if l==i:\r\n",
        "            ct[i] = 1 + ct[i] \r\n",
        "            \r\n",
        "    shp = slide.shapes.add_textbox(Pt(10+200*l), Pt(1000-150*(ct[l]-1)), Pt(150), Pt(50))\r\n",
        "    shp.text = \"\\n\".join(tex)\r\n",
        "    shp.line.color.rgb = RGBColor(0, 0, 0)\r\n",
        "\r\n",
        "\r\n",
        "prs.save('test.pptx') #任意に指定"
      ],
      "execution_count": null,
      "outputs": []
    }
  ]
}